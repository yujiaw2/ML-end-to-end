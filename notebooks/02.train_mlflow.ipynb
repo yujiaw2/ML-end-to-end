{
 "cells": [
  {
   "cell_type": "markdown",
   "id": "0053f5c0",
   "metadata": {},
   "source": [
    "## Train using MLflow"
   ]
  },
  {
   "cell_type": "code",
   "execution_count": 1,
   "id": "af51c940",
   "metadata": {},
   "outputs": [],
   "source": [
    "from sklearn.datasets import fetch_california_housing\n",
    "from sklearn.ensemble import RandomForestRegressor\n",
    "from sklearn.model_selection import train_test_split\n",
    "import joblib\n",
    "import mlflow\n",
    "import mlflow.sklearn"
   ]
  },
  {
   "cell_type": "code",
   "execution_count": 8,
   "id": "17848997",
   "metadata": {},
   "outputs": [
    {
     "name": "stderr",
     "output_type": "stream",
     "text": [
      "2025/07/06 21:05:49 INFO mlflow.tracking.fluent: Experiment with name 'cal-housing-reg' does not exist. Creating a new experiment.\n"
     ]
    },
    {
     "data": {
      "text/plain": [
       "<Experiment: artifact_location='file:///Users/abc/Repos/ML-end-to-end/notebooks/mlruns/307506043393679682', creation_time=1751861149718, experiment_id='307506043393679682', last_update_time=1751861149718, lifecycle_stage='active', name='cal-housing-reg', tags={}>"
      ]
     },
     "execution_count": 8,
     "metadata": {},
     "output_type": "execute_result"
    }
   ],
   "source": [
    "# Initialize MLflow\n",
    "# mlflow.set_tracking_uri(\"file:mlruns\") \n",
    "mlflow.set_tracking_uri(\"file:mlruns\")\n",
    "mlflow.set_experiment(\"cal-housing-reg\")"
   ]
  },
  {
   "cell_type": "code",
   "execution_count": 3,
   "id": "069dd87a",
   "metadata": {},
   "outputs": [],
   "source": [
    "# Load the California housing dataset\n",
    "data = fetch_california_housing()\n",
    "X, y = data.data, data.target"
   ]
  },
  {
   "cell_type": "code",
   "execution_count": 4,
   "id": "d253db72",
   "metadata": {},
   "outputs": [],
   "source": [
    "# Split Data\n",
    "X_train, X_test, y_train, y_test = train_test_split(X, y, test_size=0.2, random_state=42)"
   ]
  },
  {
   "cell_type": "code",
   "execution_count": null,
   "id": "04fe7d69",
   "metadata": {},
   "outputs": [],
   "source": [
    "# Train model v1 with MLflow\n",
    "from sklearn.metrics import root_mean_squared_error, mean_absolute_error, r2_score\n",
    "\n",
    "with mlflow.start_run() as run1:\n",
    "    # Train model\n",
    "    model = RandomForestRegressor(n_estimators=100, random_state=42)\n",
    "    model.fit(X_train, y_train)\n",
    "\n",
    "    y_preds_train = model.predict(X_train)\n",
    "    y_preds_test = model.predict(X_test)\n",
    "\n",
    "    rmse_train = root_mean_squared_error(y_train, y_preds_train)\n",
    "    rmse_test = root_mean_squared_error(y_test, y_preds_test)\n",
    "\n",
    "    mae_train = mean_absolute_error(y_train, y_preds_train)\n",
    "    mae_test = mean_absolute_error(y_test, y_preds_test)    \n",
    "\n",
    "    r2_train = r2_score(y_train, y_preds_train)\n",
    "    r2_test = r2_score(y_test, y_preds_test)\n",
    "\n",
    "    \n",
    "    # Log params, metrics, and model\n",
    "    mlflow.log_param(\"model_type\", \"RandomForestRegression\")\n",
    "    mlflow.log_param(\"random_state\", 42)\n",
    "    mlflow.log_param(\"n_estimators\", 100)\n",
    "    mlflow.log_metric(\"rmse_train\", rmse_train)\n",
    "    mlflow.log_metric(\"rmse_test\", rmse_test)\n",
    "    mlflow.log_metric(\"mae_train\", mae_train)\n",
    "    mlflow.log_metric(\"mae_test\", mae_test)\n",
    "    mlflow.log_metric(\"r2_train\", r2_train)\n",
    "    mlflow.log_metric(\"r2_test\", r2_test)\n",
    "\n",
    "    # Log input example for the model\n",
    "    input_example = X_test[0:1]\n",
    "    mlflow.sklearn.log_model(model, name=\"model_v1\", input_example=input_example) # registered_model_name=model_name, if you want to register the model\n",
    "    run1_id = run1.info.run_id\n",
    "\n",
    "    # # Save local copy\n",
    "    # joblib.dump(model, \"../models/model_mlflow_v1.pkl\")\n"
   ]
  },
  {
   "cell_type": "code",
   "execution_count": null,
   "id": "1e007e34",
   "metadata": {},
   "outputs": [],
   "source": [
    "# Register the model v1\n",
    "result = mlflow.register_model(\n",
    "    model_uri=f\"runs:/{run1_id}/model\",\n",
    "    name=\"housing_price_model\"\n",
    ")\n",
    "\n",
    "client = mlflow.MlflowClient()\n",
    "\n",
    "# Set model version alias\n",
    "model_name = \"housing_price_model\"\n",
    "model_version_alias = \"staging\"\n",
    "client.set_registered_model_alias(\n",
    "    model_name, model_version_alias, \"1\"\n",
    ") "
   ]
  },
  {
   "cell_type": "code",
   "execution_count": null,
   "id": "09eea039",
   "metadata": {},
   "outputs": [],
   "source": [
    "# Train model v2 with MLflow\n",
    "with mlflow.start_run() as run2:\n",
    "    # Train model\n",
    "    model = RandomForestRegressor(n_estimators=1000, random_state=42)\n",
    "    model.fit(X_train, y_train)\n",
    "\n",
    "    y_preds_train = model.predict(X_train)\n",
    "    y_preds_test = model.predict(X_test)\n",
    "\n",
    "    rmse_train = root_mean_squared_error(y_train, y_preds_train)\n",
    "    rmse_test = root_mean_squared_error(y_test, y_preds_test)\n",
    "\n",
    "    mae_train = mean_absolute_error(y_train, y_preds_train)\n",
    "    mae_test = mean_absolute_error(y_test, y_preds_test)    \n",
    "\n",
    "    r2_train = r2_score(y_train, y_preds_train)\n",
    "    r2_test = r2_score(y_test, y_preds_test)\n",
    "\n",
    "    # Log params, metrics, and model\n",
    "    mlflow.log_param(\"model_type\", \"RandomForestRegression\")\n",
    "    mlflow.log_param(\"random_state\", 42)\n",
    "    mlflow.log_param(\"n_estimators\", 1000)\n",
    "    mlflow.log_metric(\"rmse_train\", rmse_train)\n",
    "    mlflow.log_metric(\"rmse_test\", rmse_test)\n",
    "    mlflow.log_metric(\"mae_train\", mae_train)\n",
    "    mlflow.log_metric(\"mae_test\", mae_test)\n",
    "    mlflow.log_metric(\"r2_train\", r2_train)\n",
    "    mlflow.log_metric(\"r2_test\", r2_test)\n",
    "    \n",
    "    # Log input example for the model\n",
    "    input_example = X_test[0:1]\n",
    "    mlflow.sklearn.log_model(model, name=\"model_v2\", input_example=input_example) # registered_model_name=model_name, if you want to register the model\n",
    "    run2_id = run2.info.run_id\n",
    "\n",
    "    # # Save local copy\n",
    "    # joblib.dump(model, \"../models/model_mlflow_v2.pkl\")\n",
    "\n"
   ]
  },
  {
   "cell_type": "code",
   "execution_count": null,
   "id": "ac5baa8b",
   "metadata": {},
   "outputs": [],
   "source": [
    "# Register the model v2\n",
    "result = mlflow.register_model(\n",
    "    model_uri=f\"runs:/{run2_id}/model\",\n",
    "    name=\"housing_price_model\"\n",
    ")\n",
    "\n",
    "# Set model version alias\n",
    "model_name = \"housing_price_model\"\n",
    "model_version_alias = \"prod\"\n",
    "client.set_registered_model_alias(\n",
    "    model_name, model_version_alias, \"2\"\n",
    ") "
   ]
  },
  {
   "cell_type": "code",
   "execution_count": null,
   "id": "2d047f47",
   "metadata": {},
   "outputs": [
    {
     "name": "stdout",
     "output_type": "stream",
     "text": [
      "{'prod': '2', 'staging': '1'}\n"
     ]
    }
   ],
   "source": [
    "# # check registered models\n",
    "# client = mlflow.tracking.MlflowClient()\n",
    "# for model in client.search_registered_models(filter_string=\"name LIKE 'housing_price_model'\"):\n",
    "#     print(model.aliases)"
   ]
  },
  {
   "cell_type": "code",
   "execution_count": null,
   "id": "fa9b5438",
   "metadata": {},
   "outputs": [],
   "source": []
  }
 ],
 "metadata": {
  "kernelspec": {
   "display_name": "venv",
   "language": "python",
   "name": "python3"
  },
  "language_info": {
   "codemirror_mode": {
    "name": "ipython",
    "version": 3
   },
   "file_extension": ".py",
   "mimetype": "text/x-python",
   "name": "python",
   "nbconvert_exporter": "python",
   "pygments_lexer": "ipython3",
   "version": "3.13.1"
  }
 },
 "nbformat": 4,
 "nbformat_minor": 5
}
